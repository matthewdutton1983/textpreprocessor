from text_preprocessor.TextPreprocessor import TextPreprocessor

preprocessor = TextPreprocessor()

preprocessor.add_to_pipeline([preprocessor.to_lower, preprocessor.remove_email_addresses])

preprocessor.add_to_pipeline(preprocessor.to_lower)

preprocessor.clear_pipeline()
preprocessor.view_pipeline()

preprocessor.view_pipeline()

text = 'Helllo, I am John Doe!!! My email is john.doe@email.com. Visit our website www.johndoe.com'

result = preprocessor.execute_pipeline(text)
print(result)

preprocessor.clear_pipeline()
preprocessor.add_to_pipeline(preprocessor.tokenize_sentences)
preprocessor.execute_pipeline(text)
